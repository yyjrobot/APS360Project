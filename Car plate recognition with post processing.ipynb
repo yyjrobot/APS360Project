{
 "cells": [
  {
   "cell_type": "code",
   "execution_count": 2,
   "metadata": {},
   "outputs": [
    {
     "name": "stdout",
     "output_type": "stream",
     "text": [
      "Looking in links: https://download.pytorch.org/whl/lts/1.8/torch_lts.html\n",
      "Requirement already satisfied: torch==1.8.1+cu111 in c:\\d\\ut\\fourth year\\aps360\\final\\360\\lib\\site-packages (1.8.1+cu111)\n",
      "Requirement already satisfied: torchvision==0.9.1+cu111 in c:\\d\\ut\\fourth year\\aps360\\final\\360\\lib\\site-packages (0.9.1+cu111)\n",
      "Requirement already satisfied: torchaudio===0.8.1 in c:\\d\\ut\\fourth year\\aps360\\final\\360\\lib\\site-packages (0.8.1)\n",
      "Requirement already satisfied: numpy in c:\\d\\ut\\fourth year\\aps360\\final\\360\\lib\\site-packages (from torch==1.8.1+cu111) (1.21.4)\n",
      "Requirement already satisfied: typing-extensions in c:\\d\\ut\\fourth year\\aps360\\final\\360\\lib\\site-packages (from torch==1.8.1+cu111) (4.0.0)\n",
      "Requirement already satisfied: pillow>=4.1.1 in c:\\d\\ut\\fourth year\\aps360\\final\\360\\lib\\site-packages (from torchvision==0.9.1+cu111) (8.2.0)\n"
     ]
    }
   ],
   "source": [
    "!pip install torch==1.8.1+cu111 torchvision==0.9.1+cu111 torchaudio===0.8.1 -f https://download.pytorch.org/whl/lts/1.8/torch_lts.html"
   ]
  },
  {
   "cell_type": "code",
   "execution_count": 3,
   "metadata": {},
   "outputs": [],
   "source": [
    "# !pip install torch==1.8.2+cpu torchvision==0.9.2+cpu torchaudio===0.8.2 -f https://download.pytorch.org/whl/lts/1.8/torch_lts.html"
   ]
  },
  {
   "cell_type": "code",
   "execution_count": 4,
   "metadata": {},
   "outputs": [
    {
     "name": "stdout",
     "output_type": "stream",
     "text": [
      "Requirement already satisfied: torch in c:\\d\\ut\\fourth year\\aps360\\final\\360\\lib\\site-packages (1.8.1+cu111)\n",
      "Requirement already satisfied: torchvision in c:\\d\\ut\\fourth year\\aps360\\final\\360\\lib\\site-packages (0.9.1+cu111)\n",
      "Requirement already satisfied: torchaudio in c:\\d\\ut\\fourth year\\aps360\\final\\360\\lib\\site-packages (0.8.1)\n",
      "Requirement already satisfied: numpy in c:\\d\\ut\\fourth year\\aps360\\final\\360\\lib\\site-packages (from torch) (1.21.4)\n",
      "Requirement already satisfied: typing-extensions in c:\\d\\ut\\fourth year\\aps360\\final\\360\\lib\\site-packages (from torch) (4.0.0)\n",
      "Requirement already satisfied: pillow>=4.1.1 in c:\\d\\ut\\fourth year\\aps360\\final\\360\\lib\\site-packages (from torchvision) (8.2.0)\n"
     ]
    }
   ],
   "source": [
    "!pip install torch torchvision torchaudio"
   ]
  },
  {
   "cell_type": "code",
   "execution_count": 5,
   "metadata": {},
   "outputs": [
    {
     "name": "stderr",
     "output_type": "stream",
     "text": [
      "fatal: destination path 'yolov5' already exists and is not an empty directory.\n"
     ]
    }
   ],
   "source": [
    "!git clone https://github.com/ultralytics/yolov5"
   ]
  },
  {
   "cell_type": "code",
   "execution_count": 6,
   "metadata": {},
   "outputs": [
    {
     "name": "stdout",
     "output_type": "stream",
     "text": [
      "Requirement already satisfied: matplotlib>=3.2.2 in c:\\d\\ut\\fourth year\\aps360\\final\\360\\lib\\site-packages (from -r requirements.txt (line 4)) (3.5.0)\n",
      "Requirement already satisfied: numpy>=1.18.5 in c:\\d\\ut\\fourth year\\aps360\\final\\360\\lib\\site-packages (from -r requirements.txt (line 5)) (1.21.4)\n",
      "Requirement already satisfied: opencv-python>=4.1.2 in c:\\d\\ut\\fourth year\\aps360\\final\\360\\lib\\site-packages (from -r requirements.txt (line 6)) (4.5.4.60)\n",
      "Requirement already satisfied: Pillow>=7.1.2 in c:\\d\\ut\\fourth year\\aps360\\final\\360\\lib\\site-packages (from -r requirements.txt (line 7)) (8.2.0)\n",
      "Requirement already satisfied: PyYAML>=5.3.1 in c:\\d\\ut\\fourth year\\aps360\\final\\360\\lib\\site-packages (from -r requirements.txt (line 8)) (6.0)\n",
      "Requirement already satisfied: requests>=2.23.0 in c:\\d\\ut\\fourth year\\aps360\\final\\360\\lib\\site-packages (from -r requirements.txt (line 9)) (2.26.0)\n",
      "Requirement already satisfied: scipy>=1.4.1 in c:\\d\\ut\\fourth year\\aps360\\final\\360\\lib\\site-packages (from -r requirements.txt (line 10)) (1.7.3)\n",
      "Requirement already satisfied: torch>=1.7.0 in c:\\d\\ut\\fourth year\\aps360\\final\\360\\lib\\site-packages (from -r requirements.txt (line 11)) (1.8.1+cu111)\n",
      "Requirement already satisfied: torchvision>=0.8.1 in c:\\d\\ut\\fourth year\\aps360\\final\\360\\lib\\site-packages (from -r requirements.txt (line 12)) (0.9.1+cu111)\n",
      "Requirement already satisfied: tqdm>=4.41.0 in c:\\d\\ut\\fourth year\\aps360\\final\\360\\lib\\site-packages (from -r requirements.txt (line 13)) (4.62.3)\n",
      "Requirement already satisfied: tensorboard>=2.4.1 in c:\\d\\ut\\fourth year\\aps360\\final\\360\\lib\\site-packages (from -r requirements.txt (line 16)) (2.7.0)\n",
      "Requirement already satisfied: pandas>=1.1.4 in c:\\d\\ut\\fourth year\\aps360\\final\\360\\lib\\site-packages (from -r requirements.txt (line 20)) (1.3.4)\n",
      "Requirement already satisfied: seaborn>=0.11.0 in c:\\d\\ut\\fourth year\\aps360\\final\\360\\lib\\site-packages (from -r requirements.txt (line 21)) (0.11.2)\n",
      "Requirement already satisfied: thop in c:\\d\\ut\\fourth year\\aps360\\final\\360\\lib\\site-packages (from -r requirements.txt (line 36)) (0.0.31.post2005241907)\n",
      "Requirement already satisfied: packaging>=20.0 in c:\\d\\ut\\fourth year\\aps360\\final\\360\\lib\\site-packages (from matplotlib>=3.2.2->-r requirements.txt (line 4)) (21.3)\n",
      "Requirement already satisfied: kiwisolver>=1.0.1 in c:\\d\\ut\\fourth year\\aps360\\final\\360\\lib\\site-packages (from matplotlib>=3.2.2->-r requirements.txt (line 4)) (1.3.2)\n",
      "Requirement already satisfied: fonttools>=4.22.0 in c:\\d\\ut\\fourth year\\aps360\\final\\360\\lib\\site-packages (from matplotlib>=3.2.2->-r requirements.txt (line 4)) (4.28.2)\n",
      "Requirement already satisfied: setuptools-scm>=4 in c:\\d\\ut\\fourth year\\aps360\\final\\360\\lib\\site-packages (from matplotlib>=3.2.2->-r requirements.txt (line 4)) (6.3.2)\n",
      "Requirement already satisfied: python-dateutil>=2.7 in c:\\d\\ut\\fourth year\\aps360\\final\\360\\lib\\site-packages (from matplotlib>=3.2.2->-r requirements.txt (line 4)) (2.8.2)\n",
      "Requirement already satisfied: pyparsing>=2.2.1 in c:\\d\\ut\\fourth year\\aps360\\final\\360\\lib\\site-packages (from matplotlib>=3.2.2->-r requirements.txt (line 4)) (3.0.6)\n",
      "Requirement already satisfied: cycler>=0.10 in c:\\d\\ut\\fourth year\\aps360\\final\\360\\lib\\site-packages (from matplotlib>=3.2.2->-r requirements.txt (line 4)) (0.11.0)\n",
      "Requirement already satisfied: urllib3<1.27,>=1.21.1 in c:\\d\\ut\\fourth year\\aps360\\final\\360\\lib\\site-packages (from requests>=2.23.0->-r requirements.txt (line 9)) (1.26.7)\n",
      "Requirement already satisfied: charset-normalizer~=2.0.0 in c:\\d\\ut\\fourth year\\aps360\\final\\360\\lib\\site-packages (from requests>=2.23.0->-r requirements.txt (line 9)) (2.0.8)\n",
      "Requirement already satisfied: certifi>=2017.4.17 in c:\\d\\ut\\fourth year\\aps360\\final\\360\\lib\\site-packages (from requests>=2.23.0->-r requirements.txt (line 9)) (2021.10.8)\n",
      "Requirement already satisfied: idna<4,>=2.5 in c:\\d\\ut\\fourth year\\aps360\\final\\360\\lib\\site-packages (from requests>=2.23.0->-r requirements.txt (line 9)) (3.3)\n",
      "Requirement already satisfied: typing-extensions in c:\\d\\ut\\fourth year\\aps360\\final\\360\\lib\\site-packages (from torch>=1.7.0->-r requirements.txt (line 11)) (4.0.0)\n",
      "Requirement already satisfied: colorama in c:\\d\\ut\\fourth year\\aps360\\final\\360\\lib\\site-packages (from tqdm>=4.41.0->-r requirements.txt (line 13)) (0.4.4)\n",
      "Requirement already satisfied: absl-py>=0.4 in c:\\d\\ut\\fourth year\\aps360\\final\\360\\lib\\site-packages (from tensorboard>=2.4.1->-r requirements.txt (line 16)) (1.0.0)\n",
      "Requirement already satisfied: grpcio>=1.24.3 in c:\\d\\ut\\fourth year\\aps360\\final\\360\\lib\\site-packages (from tensorboard>=2.4.1->-r requirements.txt (line 16)) (1.42.0)\n",
      "Requirement already satisfied: google-auth-oauthlib<0.5,>=0.4.1 in c:\\d\\ut\\fourth year\\aps360\\final\\360\\lib\\site-packages (from tensorboard>=2.4.1->-r requirements.txt (line 16)) (0.4.6)\n",
      "Requirement already satisfied: werkzeug>=0.11.15 in c:\\d\\ut\\fourth year\\aps360\\final\\360\\lib\\site-packages (from tensorboard>=2.4.1->-r requirements.txt (line 16)) (2.0.2)\n",
      "Requirement already satisfied: markdown>=2.6.8 in c:\\d\\ut\\fourth year\\aps360\\final\\360\\lib\\site-packages (from tensorboard>=2.4.1->-r requirements.txt (line 16)) (3.3.6)\n",
      "Requirement already satisfied: tensorboard-data-server<0.7.0,>=0.6.0 in c:\\d\\ut\\fourth year\\aps360\\final\\360\\lib\\site-packages (from tensorboard>=2.4.1->-r requirements.txt (line 16)) (0.6.1)\n",
      "Requirement already satisfied: wheel>=0.26 in c:\\d\\ut\\fourth year\\aps360\\final\\360\\lib\\site-packages (from tensorboard>=2.4.1->-r requirements.txt (line 16)) (0.37.0)\n",
      "Requirement already satisfied: protobuf>=3.6.0 in c:\\d\\ut\\fourth year\\aps360\\final\\360\\lib\\site-packages (from tensorboard>=2.4.1->-r requirements.txt (line 16)) (3.19.1)\n",
      "Requirement already satisfied: tensorboard-plugin-wit>=1.6.0 in c:\\d\\ut\\fourth year\\aps360\\final\\360\\lib\\site-packages (from tensorboard>=2.4.1->-r requirements.txt (line 16)) (1.8.0)\n",
      "Requirement already satisfied: google-auth<3,>=1.6.3 in c:\\d\\ut\\fourth year\\aps360\\final\\360\\lib\\site-packages (from tensorboard>=2.4.1->-r requirements.txt (line 16)) (2.3.3)\n",
      "Requirement already satisfied: setuptools>=41.0.0 in c:\\d\\ut\\fourth year\\aps360\\final\\360\\lib\\site-packages (from tensorboard>=2.4.1->-r requirements.txt (line 16)) (57.4.0)\n",
      "Requirement already satisfied: pytz>=2017.3 in c:\\d\\ut\\fourth year\\aps360\\final\\360\\lib\\site-packages (from pandas>=1.1.4->-r requirements.txt (line 20)) (2021.3)\n",
      "Requirement already satisfied: six in c:\\d\\ut\\fourth year\\aps360\\final\\360\\lib\\site-packages (from absl-py>=0.4->tensorboard>=2.4.1->-r requirements.txt (line 16)) (1.16.0)\n",
      "Requirement already satisfied: cachetools<5.0,>=2.0.0 in c:\\d\\ut\\fourth year\\aps360\\final\\360\\lib\\site-packages (from google-auth<3,>=1.6.3->tensorboard>=2.4.1->-r requirements.txt (line 16)) (4.2.4)\n",
      "Requirement already satisfied: rsa<5,>=3.1.4 in c:\\d\\ut\\fourth year\\aps360\\final\\360\\lib\\site-packages (from google-auth<3,>=1.6.3->tensorboard>=2.4.1->-r requirements.txt (line 16)) (4.8)\n",
      "Requirement already satisfied: pyasn1-modules>=0.2.1 in c:\\d\\ut\\fourth year\\aps360\\final\\360\\lib\\site-packages (from google-auth<3,>=1.6.3->tensorboard>=2.4.1->-r requirements.txt (line 16)) (0.2.8)\n",
      "Requirement already satisfied: requests-oauthlib>=0.7.0 in c:\\d\\ut\\fourth year\\aps360\\final\\360\\lib\\site-packages (from google-auth-oauthlib<0.5,>=0.4.1->tensorboard>=2.4.1->-r requirements.txt (line 16)) (1.3.0)\n",
      "Requirement already satisfied: importlib-metadata>=4.4 in c:\\d\\ut\\fourth year\\aps360\\final\\360\\lib\\site-packages (from markdown>=2.6.8->tensorboard>=2.4.1->-r requirements.txt (line 16)) (4.8.2)\n",
      "Requirement already satisfied: tomli>=1.0.0 in c:\\d\\ut\\fourth year\\aps360\\final\\360\\lib\\site-packages (from setuptools-scm>=4->matplotlib>=3.2.2->-r requirements.txt (line 4)) (1.2.2)\n",
      "Requirement already satisfied: zipp>=0.5 in c:\\d\\ut\\fourth year\\aps360\\final\\360\\lib\\site-packages (from importlib-metadata>=4.4->markdown>=2.6.8->tensorboard>=2.4.1->-r requirements.txt (line 16)) (3.6.0)\n",
      "Requirement already satisfied: pyasn1<0.5.0,>=0.4.6 in c:\\d\\ut\\fourth year\\aps360\\final\\360\\lib\\site-packages (from pyasn1-modules>=0.2.1->google-auth<3,>=1.6.3->tensorboard>=2.4.1->-r requirements.txt (line 16)) (0.4.8)\n",
      "Requirement already satisfied: oauthlib>=3.0.0 in c:\\d\\ut\\fourth year\\aps360\\final\\360\\lib\\site-packages (from requests-oauthlib>=0.7.0->google-auth-oauthlib<0.5,>=0.4.1->tensorboard>=2.4.1->-r requirements.txt (line 16)) (3.1.1)\n"
     ]
    }
   ],
   "source": [
    "!cd yolov5 & pip install -r requirements.txt"
   ]
  },
  {
   "cell_type": "code",
   "execution_count": 7,
   "metadata": {},
   "outputs": [],
   "source": [
    "import torch\n",
    "from matplotlib import pyplot as plt\n",
    "import numpy as np\n",
    "import cv2\n",
    "import os"
   ]
  },
  {
   "cell_type": "code",
   "execution_count": 8,
   "metadata": {},
   "outputs": [
    {
     "name": "stderr",
     "output_type": "stream",
     "text": [
      "Using cache found in C:\\Users\\Shellen/.cache\\torch\\hub\\ultralytics_yolov5_master\n",
      "YOLOv5  2021-11-26 torch 1.8.1+cu111 CPU\n",
      "\n"
     ]
    },
    {
     "name": "stdout",
     "output_type": "stream",
     "text": [
      "Downloading https://github.com/ultralytics/yolov5/releases/download/v6.0/yolov5s.pt to C:\\Users\\Shellen\\.cache\\torch\\hub\\ultralytics_yolov5_master\\yolov5s.pt...\n"
     ]
    },
    {
     "data": {
      "application/vnd.jupyter.widget-view+json": {
       "model_id": "539728e7b88c4eb8a6e7f1eb75a93f9b",
       "version_major": 2,
       "version_minor": 0
      },
      "text/plain": [
       "  0%|          | 0.00/14.0M [00:00<?, ?B/s]"
      ]
     },
     "metadata": {},
     "output_type": "display_data"
    },
    {
     "name": "stderr",
     "output_type": "stream",
     "text": [
      "Fusing layers... \n"
     ]
    },
    {
     "name": "stdout",
     "output_type": "stream",
     "text": [
      "\n"
     ]
    },
    {
     "name": "stderr",
     "output_type": "stream",
     "text": [
      "Model Summary: 213 layers, 7225885 parameters, 0 gradients\n",
      "Adding AutoShape... \n"
     ]
    }
   ],
   "source": [
    "model = torch.hub.load('ultralytics/yolov5', 'yolov5s')"
   ]
  },
  {
   "cell_type": "code",
   "execution_count": 9,
   "metadata": {},
   "outputs": [],
   "source": [
    "# !pip uninstall opencv-python"
   ]
  },
  {
   "cell_type": "code",
   "execution_count": 10,
   "metadata": {},
   "outputs": [],
   "source": [
    "# !pip install opencv-python"
   ]
  },
  {
   "cell_type": "code",
   "execution_count": 11,
   "metadata": {
    "scrolled": true
   },
   "outputs": [
    {
     "name": "stderr",
     "output_type": "stream",
     "text": [
      "Downloading: \"https://github.com/ultralytics/yolov5/archive/master.zip\" to C:\\Users\\Shellen/.cache\\torch\\hub\\master.zip\n",
      "YOLOv5  2021-11-26 torch 1.8.1+cu111 CPU\n",
      "\n",
      "Fusing layers... \n",
      "Model Summary: 213 layers, 7053277 parameters, 0 gradients, 15.9 GFLOPs\n",
      "Adding AutoShape... \n"
     ]
    }
   ],
   "source": [
    "# !cd yolov5\n",
    "model = torch.hub.load('ultralytics/yolov5', 'custom', path='yolov5/runs/train/best.pt', force_reload=True)"
   ]
  },
  {
   "cell_type": "code",
   "execution_count": 12,
   "metadata": {},
   "outputs": [],
   "source": [
    "img = os.path.join('yolov5','data', 'images', 'Cars1.png')"
   ]
  },
  {
   "cell_type": "code",
   "execution_count": 13,
   "metadata": {},
   "outputs": [
    {
     "name": "stdout",
     "output_type": "stream",
     "text": [
      " Volume in drive C is OS\n",
      " Volume Serial Number is 601E-EF30\n",
      "\n",
      " Directory of C:\\D\\UT\\Fourth Year\\aps360\\final\n",
      "\n",
      "2021-11-26  02:58    <DIR>          .\n",
      "2021-11-26  02:58    <DIR>          ..\n",
      "2021-11-25  15:35    <DIR>          .ipynb_checkpoints\n",
      "2021-11-25  16:22    <DIR>          360\n",
      "2021-11-26  02:58            17,456 Car plate recognition.ipynb\n",
      "2021-11-26  02:57               448 database.txt\n",
      "2021-11-26  02:47             8,260 out.jpg\n",
      "2021-11-26  01:50                52 test.py\n",
      "2021-11-26  02:08               963 ui.py\n",
      "2021-11-25  16:28    <DIR>          yolov5\n",
      "               5 File(s)         27,179 bytes\n",
      "               5 Dir(s)  228,113,350,656 bytes free\n"
     ]
    }
   ],
   "source": [
    "!cd yolov5\n",
    "!dir"
   ]
  },
  {
   "cell_type": "code",
   "execution_count": 14,
   "metadata": {},
   "outputs": [],
   "source": [
    "results = model(img)"
   ]
  },
  {
   "cell_type": "code",
   "execution_count": 15,
   "metadata": {},
   "outputs": [
    {
     "name": "stderr",
     "output_type": "stream",
     "text": [
      "image 1/1: 248x400 1 plate\n",
      "Speed: 35.9ms pre-process, 276.3ms inference, 2.0ms NMS per image at shape (1, 3, 416, 640)\n"
     ]
    }
   ],
   "source": [
    "results.print()"
   ]
  },
  {
   "cell_type": "code",
   "execution_count": 16,
   "metadata": {},
   "outputs": [
    {
     "name": "stdout",
     "output_type": "stream",
     "text": [
      "[    0.34316     0.49559     0.64443     0.62422]\n",
      "[     137.26      122.91      257.77      154.81]\n"
     ]
    }
   ],
   "source": [
    "labels, cord_thres = results.xyxyn[0][:, -1].numpy(), results.xyxyn[0][:, :-2].numpy()\n",
    "print(cord_thres[0])\n",
    "print(results.xyxy[0][:,:-2].numpy()[0])"
   ]
  },
  {
   "cell_type": "code",
   "execution_count": 17,
   "metadata": {},
   "outputs": [
    {
     "data": {
      "image/png": "[encoded data removed]",
      "text/plain": [
       "<Figure size 432x288 with 1 Axes>"
      ]
     },
     "metadata": {
      "needs_background": "light"
     },
     "output_type": "display_data"
    }
   ],
   "source": [
    "%matplotlib inline \n",
    "plt.imshow(np.squeeze(results.render()))\n",
    "plt.show()"
   ]
  },
  {
   "cell_type": "code",
   "execution_count": 18,
   "metadata": {},
   "outputs": [],
   "source": [
    "# Apply OCR"
   ]
  },
  {
   "cell_type": "code",
   "execution_count": 19,
   "metadata": {},
   "outputs": [
    {
     "name": "stdout",
     "output_type": "stream",
     "text": [
      "Requirement already satisfied: easyocr in c:\\d\\ut\\fourth year\\aps360\\final\\360\\lib\\site-packages (1.4.1)\n",
      "Requirement already satisfied: scikit-image in c:\\d\\ut\\fourth year\\aps360\\final\\360\\lib\\site-packages (from easyocr) (0.18.3)\n",
      "Requirement already satisfied: PyYAML in c:\\d\\ut\\fourth year\\aps360\\final\\360\\lib\\site-packages (from easyocr) (6.0)\n",
      "Requirement already satisfied: opencv-python-headless in c:\\d\\ut\\fourth year\\aps360\\final\\360\\lib\\site-packages (from easyocr) (4.5.4.60)\n",
      "Requirement already satisfied: torch in c:\\d\\ut\\fourth year\\aps360\\final\\360\\lib\\site-packages (from easyocr) (1.8.1+cu111)\n",
      "Requirement already satisfied: python-bidi in c:\\d\\ut\\fourth year\\aps360\\final\\360\\lib\\site-packages (from easyocr) (0.4.2)\n",
      "Requirement already satisfied: Pillow<8.3.0 in c:\\d\\ut\\fourth year\\aps360\\final\\360\\lib\\site-packages (from easyocr) (8.2.0)\n",
      "Requirement already satisfied: numpy in c:\\d\\ut\\fourth year\\aps360\\final\\360\\lib\\site-packages (from easyocr) (1.21.4)\n",
      "Requirement already satisfied: scipy in c:\\d\\ut\\fourth year\\aps360\\final\\360\\lib\\site-packages (from easyocr) (1.7.3)\n",
      "Requirement already satisfied: torchvision>=0.5 in c:\\d\\ut\\fourth year\\aps360\\final\\360\\lib\\site-packages (from easyocr) (0.9.1+cu111)\n",
      "Requirement already satisfied: typing-extensions in c:\\d\\ut\\fourth year\\aps360\\final\\360\\lib\\site-packages (from torch->easyocr) (4.0.0)\n",
      "Requirement already satisfied: six in c:\\d\\ut\\fourth year\\aps360\\final\\360\\lib\\site-packages (from python-bidi->easyocr) (1.16.0)\n",
      "Requirement already satisfied: imageio>=2.3.0 in c:\\d\\ut\\fourth year\\aps360\\final\\360\\lib\\site-packages (from scikit-image->easyocr) (2.9.0)\n",
      "Requirement already satisfied: tifffile>=2019.7.26 in c:\\d\\ut\\fourth year\\aps360\\final\\360\\lib\\site-packages (from scikit-image->easyocr) (2021.11.2)\n",
      "Requirement already satisfied: networkx>=2.0 in c:\\d\\ut\\fourth year\\aps360\\final\\360\\lib\\site-packages (from scikit-image->easyocr) (2.6.3)\n",
      "Requirement already satisfied: PyWavelets>=1.1.1 in c:\\d\\ut\\fourth year\\aps360\\final\\360\\lib\\site-packages (from scikit-image->easyocr) (1.2.0)\n",
      "Requirement already satisfied: matplotlib!=3.0.0,>=2.0.0 in c:\\d\\ut\\fourth year\\aps360\\final\\360\\lib\\site-packages (from scikit-image->easyocr) (3.5.0)\n",
      "Requirement already satisfied: packaging>=20.0 in c:\\d\\ut\\fourth year\\aps360\\final\\360\\lib\\site-packages (from matplotlib!=3.0.0,>=2.0.0->scikit-image->easyocr) (21.3)\n",
      "Requirement already satisfied: pyparsing>=2.2.1 in c:\\d\\ut\\fourth year\\aps360\\final\\360\\lib\\site-packages (from matplotlib!=3.0.0,>=2.0.0->scikit-image->easyocr) (3.0.6)\n",
      "Requirement already satisfied: python-dateutil>=2.7 in c:\\d\\ut\\fourth year\\aps360\\final\\360\\lib\\site-packages (from matplotlib!=3.0.0,>=2.0.0->scikit-image->easyocr) (2.8.2)\n",
      "Requirement already satisfied: cycler>=0.10 in c:\\d\\ut\\fourth year\\aps360\\final\\360\\lib\\site-packages (from matplotlib!=3.0.0,>=2.0.0->scikit-image->easyocr) (0.11.0)\n",
      "Requirement already satisfied: fonttools>=4.22.0 in c:\\d\\ut\\fourth year\\aps360\\final\\360\\lib\\site-packages (from matplotlib!=3.0.0,>=2.0.0->scikit-image->easyocr) (4.28.2)\n",
      "Requirement already satisfied: kiwisolver>=1.0.1 in c:\\d\\ut\\fourth year\\aps360\\final\\360\\lib\\site-packages (from matplotlib!=3.0.0,>=2.0.0->scikit-image->easyocr) (1.3.2)\n",
      "Requirement already satisfied: setuptools-scm>=4 in c:\\d\\ut\\fourth year\\aps360\\final\\360\\lib\\site-packages (from matplotlib!=3.0.0,>=2.0.0->scikit-image->easyocr) (6.3.2)\n",
      "Requirement already satisfied: tomli>=1.0.0 in c:\\d\\ut\\fourth year\\aps360\\final\\360\\lib\\site-packages (from setuptools-scm>=4->matplotlib!=3.0.0,>=2.0.0->scikit-image->easyocr) (1.2.2)\n",
      "Requirement already satisfied: setuptools in c:\\d\\ut\\fourth year\\aps360\\final\\360\\lib\\site-packages (from setuptools-scm>=4->matplotlib!=3.0.0,>=2.0.0->scikit-image->easyocr) (57.4.0)\n"
     ]
    }
   ],
   "source": [
    "!pip install easyocr"
   ]
  },
  {
   "cell_type": "code",
   "execution_count": 20,
   "metadata": {},
   "outputs": [],
   "source": [
    "import easyocr\n",
    "from datetime import datetime"
   ]
  },
  {
   "cell_type": "code",
   "execution_count": 21,
   "metadata": {},
   "outputs": [],
   "source": [
    "detection_threshold = 0.5"
   ]
  },
  {
   "cell_type": "code",
   "execution_count": 22,
   "metadata": {},
   "outputs": [
    {
     "name": "stderr",
     "output_type": "stream",
     "text": [
      "CUDA not available - defaulting to CPU. Note: This module is much faster with a GPU.\n"
     ]
    }
   ],
   "source": [
    "reader = easyocr.Reader(['en'])"
   ]
  },
  {
   "cell_type": "code",
   "execution_count": 23,
   "metadata": {},
   "outputs": [
    {
     "data": {
      "text/plain": [
       "['Coi', 'ZCm', 'PGoMN112']"
      ]
     },
     "execution_count": 23,
     "metadata": {},
     "output_type": "execute_result"
    }
   ],
   "source": [
    "reader.readtext(img, detail = 0)"
   ]
  },
  {
   "cell_type": "code",
   "execution_count": 24,
   "metadata": {},
   "outputs": [
    {
     "name": "stdout",
     "output_type": "stream",
     "text": [
      "[     137.26      122.91      257.77      154.81]\n",
      "137\n"
     ]
    },
    {
     "data": {
      "text/plain": [
       "['DZI7 YXR']"
      ]
     },
     "execution_count": 24,
     "metadata": {},
     "output_type": "execute_result"
    }
   ],
   "source": [
    "# crop img \n",
    "bounding_box = results.xyxy[0][:,:-2].numpy()[0]\n",
    "print(bounding_box)\n",
    "print(int(bounding_box[0]))\n",
    "img = os.path.join('yolov5','data', 'images', 'Cars3.png')\n",
    "test_img = cv2.imread(img)\n",
    "crop_img = test_img[int(bounding_box[1]):int(bounding_box[3]),int(bounding_box[0]):int(bounding_box[2])]\n",
    "#cv2.imshow('tets_img',test_img)\n",
    "reader.readtext(crop_img, detail = 0)"
   ]
  },
  {
   "cell_type": "code",
   "execution_count": 25,
   "metadata": {},
   "outputs": [
    {
     "data": {
      "text/plain": [
       "{'imgs': [array([[[223, 243, 249],\n",
       "          [228, 247, 252],\n",
       "          [225, 244, 252],\n",
       "          ...,\n",
       "          [253, 255, 254],\n",
       "          [253, 254, 253],\n",
       "          [254, 255, 254]],\n",
       "  \n",
       "         [[224, 243, 249],\n",
       "          [228, 247, 252],\n",
       "          [225, 244, 251],\n",
       "          ...,\n",
       "          [253, 255, 254],\n",
       "          [254, 255, 254],\n",
       "          [254, 255, 255]],\n",
       "  \n",
       "         [[224, 244, 248],\n",
       "          [228, 248, 251],\n",
       "          [224, 244, 248],\n",
       "          ...,\n",
       "          [253, 255, 254],\n",
       "          [254, 255, 254],\n",
       "          [254, 255, 255]],\n",
       "  \n",
       "         ...,\n",
       "  \n",
       "         [[ 55,  62,  72],\n",
       "          [ 67,  74,  84],\n",
       "          [ 65,  71,  81],\n",
       "          ...,\n",
       "          [191, 186, 175],\n",
       "          [197, 192, 182],\n",
       "          [191, 186, 176]],\n",
       "  \n",
       "         [[ 57,  64,  74],\n",
       "          [ 63,  69,  80],\n",
       "          [ 67,  73,  84],\n",
       "          ...,\n",
       "          [181, 176, 166],\n",
       "          [192, 187, 177],\n",
       "          [200, 195, 184]],\n",
       "  \n",
       "         [[ 60,  67,  77],\n",
       "          [ 70,  76,  86],\n",
       "          [ 88,  95, 105],\n",
       "          ...,\n",
       "          [195, 190, 179],\n",
       "          [211, 206, 195],\n",
       "          [172, 167, 156]]], dtype=uint8)],\n",
       " 'pred': [tensor([[137.26405, 122.90566, 257.77072, 154.80569,   0.79115,   0.00000]])],\n",
       " 'names': ['plate',\n",
       "  'dog',\n",
       "  'person',\n",
       "  'cat',\n",
       "  'tv',\n",
       "  'car',\n",
       "  'meatballs',\n",
       "  'marinara sauce',\n",
       "  'tomato soup',\n",
       "  'chicken noodle soup',\n",
       "  'french onion soup',\n",
       "  'chicken breast',\n",
       "  'ribs',\n",
       "  'pulled pork',\n",
       "  'hamburger',\n",
       "  'cavity'],\n",
       " 'files': ['Cars1.jpg'],\n",
       " 'xyxy': [tensor([[137.26405, 122.90566, 257.77072, 154.80569,   0.79115,   0.00000]])],\n",
       " 'xywh': [tensor([[197.51740, 138.85568, 120.50667,  31.90003,   0.79115,   0.00000]])],\n",
       " 'xyxyn': [tensor([[0.34316, 0.49559, 0.64443, 0.62422, 0.79115, 0.00000]])],\n",
       " 'xywhn': [tensor([[0.49379, 0.55990, 0.30127, 0.12863, 0.79115, 0.00000]])],\n",
       " 'n': 1,\n",
       " 't': (35.9041690826416, 276.2598991394043, 1.9948482513427734),\n",
       " 's': torch.Size([1, 3, 416, 640])}"
      ]
     },
     "execution_count": 25,
     "metadata": {},
     "output_type": "execute_result"
    }
   ],
   "source": [
    "vars(results)"
   ]
  },
  {
   "cell_type": "code",
   "execution_count": 26,
   "metadata": {},
   "outputs": [
    {
     "data": {
      "text/plain": [
       "1"
      ]
     },
     "execution_count": 26,
     "metadata": {},
     "output_type": "execute_result"
    }
   ],
   "source": [
    "len(results.pred[0])\n",
    "\n",
    "    "
   ]
  },
  {
   "cell_type": "code",
   "execution_count": null,
   "metadata": {},
   "outputs": [],
   "source": []
  },
  {
   "cell_type": "code",
   "execution_count": 27,
   "metadata": {},
   "outputs": [
    {
     "name": "stderr",
     "output_type": "stream",
     "text": [
      "CUDA not available - defaulting to CPU. Note: This module is much faster with a GPU.\n"
     ]
    },
    {
     "name": "stdout",
     "output_type": "stream",
     "text": [
      "Not Same\n",
      "Not Same\n",
      "Found One ['B 58 BPS']\n",
      "Not Same\n",
      "Not Same\n",
      "Not Same\n",
      "Not Same\n",
      "Not Same\n",
      "Not Same\n",
      "Found One ['BHHU Z1']\n",
      "Not Same\n",
      "Not Same\n",
      "Not Same\n",
      "Not Same\n",
      "Not Same\n",
      "Not Same\n",
      "Not Same\n",
      "Found One ['B 58 BPS']\n"
     ]
    },
    {
     "data": {
      "text/plain": [
       "0"
      ]
     },
     "execution_count": 27,
     "metadata": {},
     "output_type": "execute_result"
    }
   ],
   "source": [
    "reader = easyocr.Reader(['en'])\n",
    "cap = cv2.VideoCapture(0)\n",
    "counter = 0\n",
    "start = 1\n",
    "last_pred = None\n",
    "new_pred = None\n",
    "compare = None\n",
    "current = None\n",
    "while cap.isOpened():\n",
    "    ret, frame = cap.read()\n",
    "    \n",
    "    # Make detections \n",
    "    results_f = model(frame)\n",
    "    frame = np.squeeze(results_f.render())\n",
    "    if (len(results_f.pred[0]) > 0):\n",
    "        if results_f.pred[0][0][4] > 0.2:\n",
    "            bounding_box = results_f.xyxy[0][:,:-2].numpy()[0]\n",
    "            crop_img = frame[int(bounding_box[1]):int(bounding_box[3]),int(bounding_box[0]):int(bounding_box[2])]\n",
    "            new_pred = reader.readtext(crop_img, detail = 0)\n",
    "#             print(new_pred)\n",
    "            if new_pred == last_pred:\n",
    "                counter += 1\n",
    "            if new_pred != last_pred:\n",
    "                counter = 0\n",
    "                print(\"Not Same\")\n",
    "            if counter >= 2 and compare != new_pred:\n",
    "                compare = new_pred\n",
    "                print(\"Found One \", end = '')\n",
    "                print(new_pred)\n",
    "                f = open(\"database.txt\", \"a\")\n",
    "                now = datetime.now() # current date and time\n",
    "                date = now.strftime(\"\\n%m/%d/%Y,\")\n",
    "                time = now.strftime(\"%H:%M:%S,\")\n",
    "                f.write(date)\n",
    "                f.write(time)\n",
    "                f.write(new_pred[0])\n",
    "                f.write(\",\")\n",
    "                f.close()\n",
    "                current = new_pred\n",
    "                \n",
    "    font                   = cv2.FONT_HERSHEY_SIMPLEX\n",
    "    bottomLeftCornerOfText = (10,50)\n",
    "    fontScale              = 1\n",
    "    fontColor              = (255,255,255)\n",
    "    thickness              = 2\n",
    "    lineType               = 2\n",
    "    if current == None:\n",
    "        current = ['NONE']\n",
    "    cv2.putText( frame,current[0], \n",
    "        bottomLeftCornerOfText, \n",
    "        font, \n",
    "        fontScale,\n",
    "        fontColor,\n",
    "        thickness,\n",
    "        lineType)\n",
    "    last_pred = new_pred\n",
    "    cv2.imshow('YOLO', frame)\n",
    "    #cv2.imshow(frame)\n",
    "    if cv2.waitKey(10) & 0xFF == ord('q'):\n",
    "        break\n",
    "cap.release()\n",
    "cv2.destroyAllWindows()\n",
    "\n",
    "\n",
    "from PyQt5.QtWidgets import *\n",
    "from PyQt5.QtCore import *\n",
    "\n",
    "headers = [\"Date\", \"Time\", \"License Plate Number\"]\n",
    "\n",
    "\n",
    "class TableModel(QAbstractTableModel):\n",
    "    def rowCount(self, parent):\n",
    "        return len(pre_row)\n",
    "    def columnCount(self, parent):\n",
    "        return len(headers)\n",
    "    def data(self, index, role):\n",
    "        if role != Qt.DisplayRole:\n",
    "            return QVariant()\n",
    "        return pre_row[index.row()][index.column()]\n",
    "    def headerData(self, section, orientation, role):\n",
    "        if role != Qt.DisplayRole or orientation != Qt.Horizontal:\n",
    "            return QVariant()\n",
    "        return headers[section]\n",
    "\n",
    "\n",
    "file1 = open('database.txt', 'r')\n",
    "Lines = file1.readlines()\n",
    "pre_row = [] \n",
    "count = 0\n",
    "# Strips the newline character\n",
    "for line in Lines:\n",
    "    count += 1\n",
    "    pre_row.append(tuple(map(str, line.split(','))))\n",
    "    \n",
    "\n",
    "app = QApplication([])\n",
    "model1 = TableModel()\n",
    "view = QTableView()\n",
    "view.setModel(model1)\n",
    "view.show()\n",
    "app.exec_()"
   ]
  },
  {
   "cell_type": "code",
   "execution_count": null,
   "metadata": {},
   "outputs": [],
   "source": [
    "f = open(\"database.txt\", \"w\")\n",
    "f.write(\"Woops! I have deleted the content!\\n\")\n",
    "f.write(\"Woops! I have deleted the content!\")\n",
    "f.close()"
   ]
  },
  {
   "cell_type": "code",
   "execution_count": null,
   "metadata": {},
   "outputs": [],
   "source": [
    "from datetime import datetime\n"
   ]
  },
  {
   "cell_type": "code",
   "execution_count": null,
   "metadata": {},
   "outputs": [],
   "source": [
    "f = open(\"database.txt\", \"a\")\n",
    "now = datetime.now() # current date and time\n",
    "\n",
    "\n",
    "date = now.strftime(\"%m/%d/%Y,\")\n",
    "time = now.strftime(\"%H:%M:%S,\")\n",
    "f.write(date)\n",
    "f.write(time)\n",
    "f.close()"
   ]
  },
  {
   "cell_type": "code",
   "execution_count": null,
   "metadata": {},
   "outputs": [],
   "source": [
    "file1 = open('database.txt', 'r')\n",
    "Lines = file1.readlines()\n",
    "pre_row = [] \n",
    "count = 0\n",
    "# Strips the newline character\n",
    "for line in Lines:\n",
    "    count += 1\n",
    "    pre_row.append(tuple(map(str, line.split(','))))\n",
    "#     print(\"Line{}: {}\".format(count, line.strip()))\n",
    "# test_str = \"1, -5, 4, 6, 7\"\n",
    "  \n",
    "# # printing original string \n",
    "# print(\"The original string : \" + str(test_str))\n",
    "  \n",
    "# # Convert String to Tuple\n",
    "# # using map() + tuple() + int + split()\n",
    "# res = tuple(map(int, test_str.split(', ')))\n",
    "  \n",
    "# # printing result\n",
    "# print(\"Tuple after getting conversion from String : \" + str(res))"
   ]
  },
  {
   "cell_type": "code",
   "execution_count": null,
   "metadata": {},
   "outputs": [],
   "source": [
    "pre_row"
   ]
  },
  {
   "cell_type": "code",
   "execution_count": null,
   "metadata": {},
   "outputs": [],
   "source": [
    "pip install pyqt5"
   ]
  },
  {
   "cell_type": "code",
   "execution_count": null,
   "metadata": {},
   "outputs": [],
   "source": [
    "from PyQt5.QtWidgets import *\n",
    "from PyQt5.QtCore import *\n",
    "\n",
    "headers = [\"Date\", \"Time\", \"License Plate Number\"]\n",
    "\n",
    "\n",
    "class TableModel(QAbstractTableModel):\n",
    "    def rowCount(self, parent):\n",
    "        return len(pre_row)\n",
    "    def columnCount(self, parent):\n",
    "        return len(headers)\n",
    "    def data(self, index, role):\n",
    "        if role != Qt.DisplayRole:\n",
    "            return QVariant()\n",
    "        return pre_row[index.row()][index.column()]\n",
    "    def headerData(self, section, orientation, role):\n",
    "        if role != Qt.DisplayRole or orientation != Qt.Horizontal:\n",
    "            return QVariant()\n",
    "        return headers[section]\n",
    "\n",
    "app = QApplication([])\n",
    "model = TableModel()\n",
    "view = QTableView()\n",
    "view.setModel(model)\n",
    "view.show()\n",
    "app.exec_()"
   ]
  },
  {
   "cell_type": "code",
   "execution_count": null,
   "metadata": {},
   "outputs": [],
   "source": [
    "print(type(rows[0]))"
   ]
  },
  {
   "cell_type": "code",
   "execution_count": null,
   "metadata": {},
   "outputs": [],
   "source": [
    "from PyQt5.QtWidgets import *\n",
    "from PyQt5.QtCore import *\n",
    "\n",
    "headers = [\"Scientist name\", \"Birthdate\", \"Contribution\"]\n",
    "rows = [(\"Newton\", \"1643-01-04\", \"Classical mechanics\"),\n",
    "        (\"Einstein\", \"1879-03-14\", \"Relativity\"),\n",
    "        (\"Darwin\", \"1809-02-12\", \"Evolution\")]\n",
    "\n",
    "class TableModel(QAbstractTableModel):\n",
    "    def rowCount(self, parent):\n",
    "        return len(rows)\n",
    "    def columnCount(self, parent):\n",
    "        return len(headers)\n",
    "    def data(self, index, role):\n",
    "        if role != Qt.DisplayRole:\n",
    "            return QVariant()\n",
    "        return rows[index.row()][index.column()]\n",
    "    def headerData(self, section, orientation, role):\n",
    "        if role != Qt.DisplayRole or orientation != Qt.Horizontal:\n",
    "            return QVariant()\n",
    "        return headers[section]\n",
    "\n",
    "app = QApplication([])\n",
    "model = TableModel()\n",
    "view = QTableView()\n",
    "view.setModel(model)\n",
    "view.show()\n",
    "app.exec_()"
   ]
  },
  {
   "cell_type": "code",
   "execution_count": null,
   "metadata": {},
   "outputs": [],
   "source": [
    "import numpy as np\n",
    "import cv2\n",
    "\n",
    "# Create a black image\n",
    "img = np.zeros((512,512,3), np.uint8)\n",
    "\n",
    "# Write some Text\n",
    "\n",
    "font                   = cv2.FONT_HERSHEY_SIMPLEX\n",
    "bottomLeftCornerOfText = (10,100)\n",
    "fontScale              = 1\n",
    "fontColor              = (255,255,255)\n",
    "thickness              = 1\n",
    "lineType               = 2\n",
    "\n",
    "cv2.putText(img,'Hello World!', \n",
    "    bottomLeftCornerOfText, \n",
    "    font, \n",
    "    fontScale,\n",
    "    fontColor,\n",
    "    thickness,\n",
    "    lineType)\n",
    "\n",
    "#Display the image\n",
    "cv2.imshow(\"img\",img)\n",
    "\n",
    "#Save image\n",
    "cv2.imwrite(\"out.jpg\", img)\n",
    "\n",
    "cv2.waitKey(0)"
   ]
  }
 ],
 "metadata": {
  "kernelspec": {
   "display_name": "360",
   "language": "python",
   "name": "360"
  },
  "language_info": {
   "codemirror_mode": {
    "name": "ipython",
    "version": 3
   },
   "file_extension": ".py",
   "mimetype": "text/x-python",
   "name": "python",
   "nbconvert_exporter": "python",
   "pygments_lexer": "ipython3",
   "version": "3.9.7"
  }
 },
 "nbformat": 4,
 "nbformat_minor": 2
}
