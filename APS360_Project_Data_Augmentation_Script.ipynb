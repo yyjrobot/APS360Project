{
  "nbformat": 4,
  "nbformat_minor": 0,
  "metadata": {
    "colab": {
      "name": "APS360_Project_Data_Augmentation_Script.ipynb",
      "provenance": [],
      "collapsed_sections": []
    },
    "kernelspec": {
      "name": "python3",
      "display_name": "Python 3"
    },
    "language_info": {
      "name": "python"
    }
  },
  "cells": [
    {
      "cell_type": "code",
      "metadata": {
        "id": "NEJrDJkt4XhX"
      },
      "source": [
        "import torchvision.datasets as datasets\n",
        "import torch\n",
        "import numpy as np\n",
        "import shutil"
      ],
      "execution_count": null,
      "outputs": []
    },
    {
      "cell_type": "code",
      "metadata": {
        "colab": {
          "base_uri": "https://localhost:8080/"
        },
        "id": "sUZAjfmr1xO5",
        "outputId": "4a6c9e81-1ec2-4c2e-d6de-d50528ca5836"
      },
      "source": [
        "from google.colab import drive\n",
        "drive.mount('/content/drive',force_remount=True)"
      ],
      "execution_count": null,
      "outputs": [
        {
          "output_type": "stream",
          "name": "stdout",
          "text": [
            "Mounted at /content/drive\n"
          ]
        }
      ]
    },
    {
      "cell_type": "code",
      "metadata": {
        "id": "ow21xP_v2EBn"
      },
      "source": [
        "!unzip -uq '/content/drive/My Drive/APS360_Project/Dataset.zip' -d '/content/drive/My Drive/APS360_Project/Dataset'"
      ],
      "execution_count": null,
      "outputs": []
    },
    {
      "cell_type": "code",
      "metadata": {
        "id": "3fscc52C47Et"
      },
      "source": [
        "from PIL import Image, ImageEnhance, ImageFilter\n",
        "import glob\n",
        "path = \"/content/drive/My Drive/APS360_Project/Dataset/images/*.*\"\n",
        "for filename in glob.glob(path):\n",
        "  car_num = filename.split('/')[7]\n",
        "  \n",
        "  if car_num.startswith(\"Cars\"): \n",
        "    if filename.endswith(\".png\"):\n",
        "      img = Image.open(filename)\n",
        "      \n",
        "      # generate grey scape image\n",
        "      grey_img = img.convert('L')\n",
        "      grey_img.save('/content/drive/My Drive/APS360_Project/Dataset/images/greyscale_'+car_num)\n",
        "\n",
        "      # generate low contrast image\n",
        "      con_enhancer = ImageEnhance.Contrast(img)\n",
        "      factor = 0.5 # decrease constrast\n",
        "      low_con_img = con_enhancer.enhance(factor)\n",
        "      low_con_img.save('/content/drive/My Drive/APS360_Project/Dataset/images/low_contrast_'+car_num)\n",
        "\n",
        "      # generate high contrast image\n",
        "      factor = 1.5 # increase constrast\n",
        "      high_con_img = con_enhancer.enhance(factor)\n",
        "      high_con_img.save('/content/drive/My Drive/APS360_Project/Dataset/images/high_contrast_'+car_num)\n",
        "\n",
        "      # generate dark image\n",
        "      brt_enhancer = ImageEnhance.Brightness(img)\n",
        "      factor = 0.5 # darkens the image\n",
        "      dark_img = brt_enhancer.enhance(factor)\n",
        "      dark_img.save('/content/drive/My Drive/APS360_Project/Dataset/images/dark_'+car_num)\n",
        "\n",
        "      # generate bright image\n",
        "      factor = 1.5 # brightens the image\n",
        "      brt_img = brt_enhancer.enhance(factor)\n",
        "      brt_img.save('/content/drive/My Drive/APS360_Project/Dataset/images/bright_'+car_num)\n",
        "\n",
        "      # generate image with Gaussian Blur, Gaussian kernel = 2\n",
        "      blur_img = img.filter(ImageFilter.GaussianBlur(radius = 2))\n",
        "      blur_img.save('/content/drive/My Drive/APS360_Project/Dataset/images/gaussian_blur_'+car_num)"
      ],
      "execution_count": null,
      "outputs": []
    },
    {
      "cell_type": "code",
      "metadata": {
        "id": "EgF-rA9i_cVa"
      },
      "source": [
        "# copy annotation file\n",
        "path = \"/content/drive/My Drive/APS360_Project/Dataset/annotations/*.*\"\n",
        "for filename in glob.glob(path):\n",
        "  car_num = filename.split('/')[7]\n",
        "  if car_num.startswith(\"Cars\"): \n",
        "    if filename.endswith(\".txt\"):\n",
        "      shutil.copy(filename, '/content/drive/My Drive/APS360_Project/Dataset/annotations/greyscale_'+car_num)\n",
        "      shutil.copy(filename, '/content/drive/My Drive/APS360_Project/Dataset/annotations/low_contrast_'+car_num)\n",
        "      shutil.copy(filename, '/content/drive/My Drive/APS360_Project/Dataset/annotations/high_contrast_'+car_num)\n",
        "      shutil.copy(filename, '/content/drive/My Drive/APS360_Project/Dataset/annotations/dark_'+car_num)\n",
        "      shutil.copy(filename, '/content/drive/My Drive/APS360_Project/Dataset/annotations/bright_'+car_num)\n",
        "      shutil.copy(filename, '/content/drive/My Drive/APS360_Project/Dataset/annotations/gaussian_blur_'+car_num)"
      ],
      "execution_count": null,
      "outputs": []
    }
  ]
}